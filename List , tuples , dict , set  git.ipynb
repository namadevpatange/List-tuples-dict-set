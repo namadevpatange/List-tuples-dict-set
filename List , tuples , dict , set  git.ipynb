{
 "cells": [
  {
   "cell_type": "code",
   "execution_count": null,
   "id": "6aa8fce0",
   "metadata": {},
   "outputs": [],
   "source": [
    "l = [1,2,3,4,5, \"namdev\" , 45.67, True]"
   ]
  },
  {
   "cell_type": "code",
   "execution_count": null,
   "id": "88a616d3",
   "metadata": {},
   "outputs": [],
   "source": [
    "l[0]"
   ]
  },
  {
   "cell_type": "code",
   "execution_count": null,
   "id": "ba5eb6aa",
   "metadata": {},
   "outputs": [],
   "source": [
    "l[-1]"
   ]
  },
  {
   "cell_type": "code",
   "execution_count": null,
   "id": "fed3fabb",
   "metadata": {},
   "outputs": [],
   "source": [
    "len(l)"
   ]
  },
  {
   "cell_type": "code",
   "execution_count": null,
   "id": "a22593bb",
   "metadata": {},
   "outputs": [],
   "source": [
    "l[0:5]"
   ]
  },
  {
   "cell_type": "code",
   "execution_count": null,
   "id": "9ec8246d",
   "metadata": {},
   "outputs": [],
   "source": [
    "l[::-1]"
   ]
  },
  {
   "cell_type": "code",
   "execution_count": null,
   "id": "325e5983",
   "metadata": {},
   "outputs": [],
   "source": [
    "l"
   ]
  },
  {
   "cell_type": "code",
   "execution_count": null,
   "id": "4a5c6b2d",
   "metadata": {},
   "outputs": [],
   "source": [
    "l[0:100:2]"
   ]
  },
  {
   "cell_type": "code",
   "execution_count": null,
   "id": "7f8fa5d8",
   "metadata": {},
   "outputs": [],
   "source": [
    "l"
   ]
  },
  {
   "cell_type": "code",
   "execution_count": null,
   "id": "31faac26",
   "metadata": {},
   "outputs": [],
   "source": [
    "l[0:8:-1]"
   ]
  },
  {
   "cell_type": "code",
   "execution_count": null,
   "id": "d1ac7b2f",
   "metadata": {},
   "outputs": [],
   "source": [
    "l[:3]"
   ]
  },
  {
   "cell_type": "code",
   "execution_count": null,
   "id": "f3a88528",
   "metadata": {},
   "outputs": [],
   "source": [
    "l +[\"Patange\"]"
   ]
  },
  {
   "cell_type": "code",
   "execution_count": null,
   "id": "9c50fc6c",
   "metadata": {},
   "outputs": [],
   "source": [
    "l * 2"
   ]
  },
  {
   "cell_type": "code",
   "execution_count": null,
   "id": "a8835e53",
   "metadata": {},
   "outputs": [],
   "source": [
    "l"
   ]
  },
  {
   "cell_type": "code",
   "execution_count": null,
   "id": "1b7cb7ee",
   "metadata": {},
   "outputs": [],
   "source": [
    "60 in l"
   ]
  },
  {
   "cell_type": "code",
   "execution_count": null,
   "id": "f72eae30",
   "metadata": {},
   "outputs": [],
   "source": [
    "2 in l"
   ]
  },
  {
   "cell_type": "code",
   "execution_count": null,
   "id": "5f9d1feb",
   "metadata": {},
   "outputs": [],
   "source": [
    "l1 = [3,4,5,6,6]"
   ]
  },
  {
   "cell_type": "code",
   "execution_count": null,
   "id": "19744a16",
   "metadata": {},
   "outputs": [],
   "source": [
    "max(l1)"
   ]
  },
  {
   "cell_type": "code",
   "execution_count": null,
   "id": "36d91ce0",
   "metadata": {},
   "outputs": [],
   "source": [
    "l"
   ]
  },
  {
   "cell_type": "code",
   "execution_count": null,
   "id": "cb8fbcc3",
   "metadata": {},
   "outputs": [],
   "source": [
    "l2 = [\"namdev\" , \"patange\" , \"deshmukh\"]"
   ]
  },
  {
   "cell_type": "code",
   "execution_count": null,
   "id": "fcbb6f75",
   "metadata": {},
   "outputs": [],
   "source": [
    "max(l2)"
   ]
  },
  {
   "cell_type": "code",
   "execution_count": null,
   "id": "f15ead27",
   "metadata": {},
   "outputs": [],
   "source": [
    "min(l1)"
   ]
  },
  {
   "cell_type": "code",
   "execution_count": null,
   "id": "2f860bd5",
   "metadata": {},
   "outputs": [],
   "source": [
    "min(l2)"
   ]
  },
  {
   "cell_type": "code",
   "execution_count": null,
   "id": "0302a260",
   "metadata": {},
   "outputs": [],
   "source": [
    "l"
   ]
  },
  {
   "cell_type": "code",
   "execution_count": null,
   "id": "749e8146",
   "metadata": {},
   "outputs": [],
   "source": [
    "l.append(\"namdev\")"
   ]
  },
  {
   "cell_type": "code",
   "execution_count": null,
   "id": "3c94f99a",
   "metadata": {},
   "outputs": [],
   "source": [
    "l"
   ]
  },
  {
   "cell_type": "code",
   "execution_count": null,
   "id": "79a5c295",
   "metadata": {},
   "outputs": [],
   "source": [
    "l.append([1,2,3,4])"
   ]
  },
  {
   "cell_type": "code",
   "execution_count": null,
   "id": "5e122777",
   "metadata": {},
   "outputs": [],
   "source": [
    "l"
   ]
  },
  {
   "cell_type": "code",
   "execution_count": null,
   "id": "03c9adf9",
   "metadata": {},
   "outputs": [],
   "source": [
    "l.pop(0)"
   ]
  },
  {
   "cell_type": "code",
   "execution_count": null,
   "id": "84200cd2",
   "metadata": {},
   "outputs": [],
   "source": [
    "l"
   ]
  },
  {
   "cell_type": "code",
   "execution_count": null,
   "id": "6edaaa25",
   "metadata": {},
   "outputs": [],
   "source": [
    "l.pop()"
   ]
  },
  {
   "cell_type": "code",
   "execution_count": null,
   "id": "e578afaf",
   "metadata": {},
   "outputs": [],
   "source": [
    "l"
   ]
  },
  {
   "cell_type": "code",
   "execution_count": null,
   "id": "77598818",
   "metadata": {},
   "outputs": [],
   "source": [
    "l.reverse()"
   ]
  },
  {
   "cell_type": "code",
   "execution_count": null,
   "id": "c630beef",
   "metadata": {},
   "outputs": [],
   "source": [
    "l"
   ]
  },
  {
   "cell_type": "code",
   "execution_count": null,
   "id": "52cfc604",
   "metadata": {},
   "outputs": [],
   "source": [
    "l = l[::-1]"
   ]
  },
  {
   "cell_type": "code",
   "execution_count": null,
   "id": "f8d0ef51",
   "metadata": {},
   "outputs": [],
   "source": [
    "l.reverse()"
   ]
  },
  {
   "cell_type": "code",
   "execution_count": null,
   "id": "04bdc84d",
   "metadata": {},
   "outputs": [],
   "source": [
    "l"
   ]
  },
  {
   "cell_type": "code",
   "execution_count": null,
   "id": "546a2228",
   "metadata": {},
   "outputs": [],
   "source": [
    "l.append ([1,2,3,4])"
   ]
  },
  {
   "cell_type": "code",
   "execution_count": null,
   "id": "03d13653",
   "metadata": {},
   "outputs": [],
   "source": [
    "l"
   ]
  },
  {
   "cell_type": "code",
   "execution_count": null,
   "id": "9045a61f",
   "metadata": {},
   "outputs": [],
   "source": [
    "l.sort()"
   ]
  },
  {
   "cell_type": "code",
   "execution_count": null,
   "id": "9cd32227",
   "metadata": {},
   "outputs": [],
   "source": [
    "l"
   ]
  },
  {
   "cell_type": "code",
   "execution_count": null,
   "id": "1c2e3b21",
   "metadata": {},
   "outputs": [],
   "source": [
    "l1"
   ]
  },
  {
   "cell_type": "code",
   "execution_count": null,
   "id": "0fa37a2d",
   "metadata": {},
   "outputs": [],
   "source": [
    "l1.sort()"
   ]
  },
  {
   "cell_type": "code",
   "execution_count": null,
   "id": "f0eb8ce5",
   "metadata": {},
   "outputs": [],
   "source": [
    "l1"
   ]
  },
  {
   "cell_type": "code",
   "execution_count": null,
   "id": "71dbdb88",
   "metadata": {},
   "outputs": [],
   "source": [
    "l3 = [8,98,34,23,1,0]"
   ]
  },
  {
   "cell_type": "code",
   "execution_count": null,
   "id": "e9df020b",
   "metadata": {},
   "outputs": [],
   "source": [
    "l3.sort(reverse= True )"
   ]
  },
  {
   "cell_type": "code",
   "execution_count": null,
   "id": "cb59106d",
   "metadata": {},
   "outputs": [],
   "source": [
    "l3"
   ]
  },
  {
   "cell_type": "code",
   "execution_count": null,
   "id": "b74d99fc",
   "metadata": {},
   "outputs": [],
   "source": [
    "l1 = [2,3,4]\n",
    "l2 = [6,7,8]\n",
    "l3 = [3,2,4]"
   ]
  },
  {
   "cell_type": "code",
   "execution_count": null,
   "id": "ccb0aeda",
   "metadata": {},
   "outputs": [],
   "source": [
    "l4 = [l1,l2,l3]"
   ]
  },
  {
   "cell_type": "code",
   "execution_count": null,
   "id": "f7c18d8b",
   "metadata": {},
   "outputs": [],
   "source": [
    "l4"
   ]
  },
  {
   "cell_type": "code",
   "execution_count": null,
   "id": "e3091857",
   "metadata": {},
   "outputs": [],
   "source": [
    "l4"
   ]
  },
  {
   "cell_type": "code",
   "execution_count": null,
   "id": "1c71465f",
   "metadata": {},
   "outputs": [],
   "source": [
    "l4[2][1]"
   ]
  },
  {
   "cell_type": "code",
   "execution_count": null,
   "id": "68c6c66b",
   "metadata": {},
   "outputs": [],
   "source": [
    "l4[2][1]"
   ]
  },
  {
   "cell_type": "code",
   "execution_count": null,
   "id": "33febc15",
   "metadata": {},
   "outputs": [],
   "source": [
    "l"
   ]
  },
  {
   "cell_type": "code",
   "execution_count": null,
   "id": "dfefc348",
   "metadata": {},
   "outputs": [],
   "source": [
    "l.count(2)"
   ]
  },
  {
   "cell_type": "code",
   "execution_count": null,
   "id": "bbf42cca",
   "metadata": {},
   "outputs": [],
   "source": [
    "l5 = [3,4,5,3,3,3]"
   ]
  },
  {
   "cell_type": "code",
   "execution_count": null,
   "id": "94653c8e",
   "metadata": {},
   "outputs": [],
   "source": [
    "l5.count(3)"
   ]
  },
  {
   "cell_type": "code",
   "execution_count": null,
   "id": "15a1b5b8",
   "metadata": {},
   "outputs": [],
   "source": [
    "l1=[1,2,3]\n",
    "l2=[4,5,6]\n",
    "l3=[7,8,9]\n",
    "\n",
    "l4=[l1,l2,l3]\n",
    "\n",
    "l4.count(3)\n",
    "\n"
   ]
  },
  {
   "cell_type": "code",
   "execution_count": null,
   "id": "0a2a3d99",
   "metadata": {},
   "outputs": [],
   "source": [
    "l4"
   ]
  },
  {
   "cell_type": "code",
   "execution_count": null,
   "id": "9344afad",
   "metadata": {},
   "outputs": [],
   "source": [
    "l4.count(3)"
   ]
  },
  {
   "cell_type": "code",
   "execution_count": null,
   "id": "a67e216c",
   "metadata": {},
   "outputs": [],
   "source": [
    "l"
   ]
  },
  {
   "cell_type": "code",
   "execution_count": 111,
   "id": "68861420",
   "metadata": {},
   "outputs": [],
   "source": [
    "l.append(\"namdev\")"
   ]
  },
  {
   "cell_type": "code",
   "execution_count": 113,
   "id": "927a4828",
   "metadata": {},
   "outputs": [
    {
     "data": {
      "text/plain": [
       "['namdev',\n",
       " [1, 2, 3, 4],\n",
       " 'kuamr',\n",
       " True,\n",
       " 45.67,\n",
       " 'namdev',\n",
       " 5,\n",
       " 4,\n",
       " 3,\n",
       " [1, 2, 3, 4],\n",
       " 'namdev',\n",
       " [1, 2, 3, 4],\n",
       " 'namdev']"
      ]
     },
     "execution_count": 113,
     "metadata": {},
     "output_type": "execute_result"
    }
   ],
   "source": [
    "l"
   ]
  },
  {
   "cell_type": "code",
   "execution_count": 117,
   "id": "de2bbdc9",
   "metadata": {},
   "outputs": [],
   "source": [
    "l.append([4,56 , \"namdev\"])"
   ]
  },
  {
   "cell_type": "code",
   "execution_count": 119,
   "id": "fb235d9c",
   "metadata": {},
   "outputs": [
    {
     "data": {
      "text/plain": [
       "['namdev',\n",
       " [1, 2, 3, 4],\n",
       " 'kuamr',\n",
       " True,\n",
       " 45.67,\n",
       " 'namdev',\n",
       " 5,\n",
       " 4,\n",
       " 3,\n",
       " [1, 2, 3, 4],\n",
       " 'namdev',\n",
       " [1, 2, 3, 4],\n",
       " 'namdev',\n",
       " [4, 56, 'sudh'],\n",
       " [4, 56, 'namdev']]"
      ]
     },
     "execution_count": 119,
     "metadata": {},
     "output_type": "execute_result"
    }
   ],
   "source": [
    "l"
   ]
  },
  {
   "cell_type": "code",
   "execution_count": 121,
   "id": "9f139029",
   "metadata": {},
   "outputs": [],
   "source": [
    "l.extend(\"namdev\")"
   ]
  },
  {
   "cell_type": "code",
   "execution_count": 123,
   "id": "40c36ad0",
   "metadata": {},
   "outputs": [
    {
     "data": {
      "text/plain": [
       "['namdev',\n",
       " [1, 2, 3, 4],\n",
       " 'kuamr',\n",
       " True,\n",
       " 45.67,\n",
       " 'namdev',\n",
       " 5,\n",
       " 4,\n",
       " 3,\n",
       " [1, 2, 3, 4],\n",
       " 'namdev',\n",
       " [1, 2, 3, 4],\n",
       " 'namdev',\n",
       " [4, 56, 'sudh'],\n",
       " [4, 56, 'namdev'],\n",
       " 'n',\n",
       " 'a',\n",
       " 'm',\n",
       " 'd',\n",
       " 'e',\n",
       " 'v']"
      ]
     },
     "execution_count": 123,
     "metadata": {},
     "output_type": "execute_result"
    }
   ],
   "source": [
    "l"
   ]
  },
  {
   "cell_type": "code",
   "execution_count": 125,
   "id": "39565fb8",
   "metadata": {},
   "outputs": [],
   "source": [
    "l6 = [1,2,3]"
   ]
  },
  {
   "cell_type": "code",
   "execution_count": 127,
   "id": "ca802d08",
   "metadata": {},
   "outputs": [],
   "source": [
    "l6.append([4,5,6])"
   ]
  },
  {
   "cell_type": "code",
   "execution_count": 129,
   "id": "b12a528a",
   "metadata": {},
   "outputs": [
    {
     "data": {
      "text/plain": [
       "[1, 2, 3, [4, 5, 6]]"
      ]
     },
     "execution_count": 129,
     "metadata": {},
     "output_type": "execute_result"
    }
   ],
   "source": [
    "l6"
   ]
  },
  {
   "cell_type": "code",
   "execution_count": 139,
   "id": "7388acce",
   "metadata": {},
   "outputs": [],
   "source": [
    "l6.append(\"namdev\")"
   ]
  },
  {
   "cell_type": "code",
   "execution_count": 141,
   "id": "fd0824a0",
   "metadata": {},
   "outputs": [
    {
     "data": {
      "text/plain": [
       "[1, 2, 3, [4, 5, 6], 'sudh', 45, 'namdev']"
      ]
     },
     "execution_count": 141,
     "metadata": {},
     "output_type": "execute_result"
    }
   ],
   "source": [
    "l6"
   ]
  },
  {
   "cell_type": "code",
   "execution_count": 137,
   "id": "603aba04",
   "metadata": {},
   "outputs": [],
   "source": [
    "l6.append(45)"
   ]
  },
  {
   "cell_type": "code",
   "execution_count": null,
   "id": "dc698e27",
   "metadata": {},
   "outputs": [],
   "source": [
    "l6"
   ]
  },
  {
   "cell_type": "code",
   "execution_count": null,
   "id": "a662edf7",
   "metadata": {},
   "outputs": [],
   "source": [
    "l6.extend([56,34,21])"
   ]
  },
  {
   "cell_type": "code",
   "execution_count": null,
   "id": "01527db6",
   "metadata": {},
   "outputs": [],
   "source": [
    "l6"
   ]
  },
  {
   "cell_type": "code",
   "execution_count": 143,
   "id": "f206218d",
   "metadata": {},
   "outputs": [],
   "source": [
    "l6.extend(\"patange\")"
   ]
  },
  {
   "cell_type": "code",
   "execution_count": 145,
   "id": "1173ec16",
   "metadata": {},
   "outputs": [
    {
     "data": {
      "text/plain": [
       "[1, 2, 3, [4, 5, 6], 'sudh', 45, 'namdev', 'p', 'a', 't', 'a', 'n', 'g', 'e']"
      ]
     },
     "execution_count": 145,
     "metadata": {},
     "output_type": "execute_result"
    }
   ],
   "source": [
    "l6"
   ]
  },
  {
   "cell_type": "code",
   "execution_count": null,
   "id": "4d38b1bd",
   "metadata": {},
   "outputs": [],
   "source": [
    "l6"
   ]
  },
  {
   "cell_type": "code",
   "execution_count": null,
   "id": "84a62688",
   "metadata": {},
   "outputs": [],
   "source": [
    "l6.index(1)"
   ]
  },
  {
   "cell_type": "code",
   "execution_count": null,
   "id": "bcd7b6bc",
   "metadata": {},
   "outputs": [],
   "source": [
    "l7  = [1,2,3,4,55,6,6,7]"
   ]
  },
  {
   "cell_type": "code",
   "execution_count": null,
   "id": "543912bd",
   "metadata": {},
   "outputs": [],
   "source": [
    "l7.index(6)"
   ]
  },
  {
   "cell_type": "code",
   "execution_count": null,
   "id": "a0bd97b7",
   "metadata": {},
   "outputs": [],
   "source": [
    "l = [1,2,3,4,5]"
   ]
  },
  {
   "cell_type": "code",
   "execution_count": null,
   "id": "b41b0450",
   "metadata": {},
   "outputs": [],
   "source": [
    "l.append(45)"
   ]
  },
  {
   "cell_type": "code",
   "execution_count": null,
   "id": "f806136d",
   "metadata": {},
   "outputs": [],
   "source": [
    "l"
   ]
  },
  {
   "cell_type": "code",
   "execution_count": null,
   "id": "8b4bdb4f",
   "metadata": {},
   "outputs": [],
   "source": [
    "l.insert(1 , [1,2,34])"
   ]
  },
  {
   "cell_type": "code",
   "execution_count": null,
   "id": "08ef3881",
   "metadata": {},
   "outputs": [],
   "source": [
    "l"
   ]
  },
  {
   "cell_type": "code",
   "execution_count": null,
   "id": "c9c73ea0",
   "metadata": {},
   "outputs": [],
   "source": [
    "l.insert(5,\"namdev\")"
   ]
  },
  {
   "cell_type": "code",
   "execution_count": null,
   "id": "4d5fcc67",
   "metadata": {},
   "outputs": [],
   "source": [
    "l"
   ]
  },
  {
   "cell_type": "code",
   "execution_count": null,
   "id": "64f41b39",
   "metadata": {},
   "outputs": [],
   "source": [
    "l"
   ]
  },
  {
   "cell_type": "code",
   "execution_count": null,
   "id": "a46aa65d",
   "metadata": {},
   "outputs": [],
   "source": [
    "l.pop()"
   ]
  },
  {
   "cell_type": "code",
   "execution_count": null,
   "id": "f7e51b16",
   "metadata": {},
   "outputs": [],
   "source": [
    "l"
   ]
  },
  {
   "cell_type": "code",
   "execution_count": null,
   "id": "908f4119",
   "metadata": {},
   "outputs": [],
   "source": [
    "l.pop(2)"
   ]
  },
  {
   "cell_type": "code",
   "execution_count": null,
   "id": "31839570",
   "metadata": {},
   "outputs": [],
   "source": [
    "l"
   ]
  },
  {
   "cell_type": "code",
   "execution_count": null,
   "id": "9b556890",
   "metadata": {},
   "outputs": [],
   "source": [
    "l.remove(100)"
   ]
  },
  {
   "cell_type": "code",
   "execution_count": null,
   "id": "8c4c0b2e",
   "metadata": {},
   "outputs": [],
   "source": [
    "l.remove(4)"
   ]
  },
  {
   "cell_type": "code",
   "execution_count": null,
   "id": "89b079a3",
   "metadata": {},
   "outputs": [],
   "source": [
    "l"
   ]
  },
  {
   "cell_type": "code",
   "execution_count": null,
   "id": "4b3fa07c",
   "metadata": {},
   "outputs": [],
   "source": [
    "l.remove(3)"
   ]
  },
  {
   "cell_type": "code",
   "execution_count": null,
   "id": "bd896442",
   "metadata": {},
   "outputs": [],
   "source": [
    "l"
   ]
  },
  {
   "cell_type": "code",
   "execution_count": null,
   "id": "a9d2dbf0",
   "metadata": {},
   "outputs": [],
   "source": [
    "l = [1,2,3,4]"
   ]
  },
  {
   "cell_type": "code",
   "execution_count": null,
   "id": "68f3ed3d",
   "metadata": {},
   "outputs": [],
   "source": [
    "l[2] =\"namdev\""
   ]
  },
  {
   "cell_type": "code",
   "execution_count": null,
   "id": "8ae1745a",
   "metadata": {},
   "outputs": [],
   "source": [
    "l"
   ]
  },
  {
   "cell_type": "code",
   "execution_count": null,
   "id": "ea4b1401",
   "metadata": {},
   "outputs": [],
   "source": [
    "s = \"iNeuron\""
   ]
  },
  {
   "cell_type": "code",
   "execution_count": null,
   "id": "afa749f0",
   "metadata": {},
   "outputs": [],
   "source": [
    "s[2] = 'z'"
   ]
  },
  {
   "cell_type": "code",
   "execution_count": null,
   "id": "8e53c33c",
   "metadata": {},
   "outputs": [],
   "source": [
    "t = (4,5,6,7,\"namdev\" ,45.67, True)"
   ]
  },
  {
   "cell_type": "code",
   "execution_count": null,
   "id": "d5a64769",
   "metadata": {},
   "outputs": [],
   "source": [
    "type(t)"
   ]
  },
  {
   "cell_type": "code",
   "execution_count": null,
   "id": "31b1c5f6",
   "metadata": {},
   "outputs": [],
   "source": [
    "t[0]"
   ]
  },
  {
   "cell_type": "code",
   "execution_count": null,
   "id": "1dbc0672",
   "metadata": {},
   "outputs": [],
   "source": [
    "t[0:4]"
   ]
  },
  {
   "cell_type": "code",
   "execution_count": null,
   "id": "d4dc0937",
   "metadata": {},
   "outputs": [],
   "source": [
    "t[-1]"
   ]
  },
  {
   "cell_type": "code",
   "execution_count": null,
   "id": "56772e1f",
   "metadata": {},
   "outputs": [],
   "source": [
    "t"
   ]
  },
  {
   "cell_type": "code",
   "execution_count": null,
   "id": "a00177b9",
   "metadata": {},
   "outputs": [],
   "source": [
    "t[0:6:2]"
   ]
  },
  {
   "cell_type": "code",
   "execution_count": null,
   "id": "f2ce9d69",
   "metadata": {},
   "outputs": [],
   "source": [
    "t[0:4:-1]"
   ]
  },
  {
   "cell_type": "code",
   "execution_count": null,
   "id": "bae4cfcd",
   "metadata": {},
   "outputs": [],
   "source": [
    "l = [1,2,3,456,78]"
   ]
  },
  {
   "cell_type": "code",
   "execution_count": null,
   "id": "2e918dea",
   "metadata": {},
   "outputs": [],
   "source": [
    "l[2] = \"namdev\""
   ]
  },
  {
   "cell_type": "code",
   "execution_count": null,
   "id": "e3eab494",
   "metadata": {},
   "outputs": [],
   "source": [
    "l"
   ]
  },
  {
   "cell_type": "code",
   "execution_count": null,
   "id": "1167cccd",
   "metadata": {},
   "outputs": [],
   "source": [
    "t"
   ]
  },
  {
   "cell_type": "code",
   "execution_count": null,
   "id": "9473ba71",
   "metadata": {},
   "outputs": [],
   "source": [
    "t[2] = \"namdev\""
   ]
  },
  {
   "cell_type": "code",
   "execution_count": null,
   "id": "9839bd9a",
   "metadata": {},
   "outputs": [],
   "source": [
    "t1 = (3,4,5,6)"
   ]
  },
  {
   "cell_type": "code",
   "execution_count": null,
   "id": "435af40a",
   "metadata": {},
   "outputs": [],
   "source": [
    "t"
   ]
  },
  {
   "cell_type": "code",
   "execution_count": null,
   "id": "297d63ce",
   "metadata": {},
   "outputs": [],
   "source": [
    "t +t1"
   ]
  },
  {
   "cell_type": "code",
   "execution_count": null,
   "id": "652e2a70",
   "metadata": {},
   "outputs": [],
   "source": [
    "t.count(3)"
   ]
  },
  {
   "cell_type": "code",
   "execution_count": null,
   "id": "79f9ddd9",
   "metadata": {},
   "outputs": [],
   "source": [
    "t.count(4)"
   ]
  },
  {
   "cell_type": "code",
   "execution_count": null,
   "id": "7fa78fcb",
   "metadata": {},
   "outputs": [],
   "source": [
    "t.index(5)"
   ]
  },
  {
   "cell_type": "code",
   "execution_count": null,
   "id": "1cb27098",
   "metadata": {},
   "outputs": [],
   "source": [
    "t = t+t1"
   ]
  },
  {
   "cell_type": "code",
   "execution_count": null,
   "id": "97631a5a",
   "metadata": {},
   "outputs": [],
   "source": [
    "t"
   ]
  },
  {
   "cell_type": "code",
   "execution_count": null,
   "id": "bb941cde",
   "metadata": {},
   "outputs": [],
   "source": [
    "t = (3,4,56,7, \"namdev\")"
   ]
  },
  {
   "cell_type": "code",
   "execution_count": null,
   "id": "c067bd42",
   "metadata": {},
   "outputs": [],
   "source": [
    "t2 = list(t)"
   ]
  },
  {
   "cell_type": "code",
   "execution_count": null,
   "id": "aad7caf8",
   "metadata": {},
   "outputs": [],
   "source": [
    "t2"
   ]
  },
  {
   "cell_type": "code",
   "execution_count": null,
   "id": "b6f65bb5",
   "metadata": {},
   "outputs": [],
   "source": [
    "tuple(t2)"
   ]
  },
  {
   "cell_type": "code",
   "execution_count": null,
   "id": "4a8ae1c8",
   "metadata": {},
   "outputs": [],
   "source": [
    "str(t2)"
   ]
  },
  {
   "cell_type": "code",
   "execution_count": null,
   "id": "f94734a8",
   "metadata": {},
   "outputs": [],
   "source": [
    "d = {}"
   ]
  },
  {
   "cell_type": "code",
   "execution_count": null,
   "id": "ab59b7e6",
   "metadata": {},
   "outputs": [],
   "source": [
    "type(d)"
   ]
  },
  {
   "cell_type": "code",
   "execution_count": null,
   "id": "91d49265",
   "metadata": {},
   "outputs": [],
   "source": [
    "d1 = {1}"
   ]
  },
  {
   "cell_type": "code",
   "execution_count": null,
   "id": "bcdb9c91",
   "metadata": {},
   "outputs": [],
   "source": [
    "type(d1)"
   ]
  },
  {
   "cell_type": "code",
   "execution_count": null,
   "id": "64f5415c",
   "metadata": {},
   "outputs": [],
   "source": [
    "d2 = { 'key1' : \"value\"  , 234 : \"xyz\" , \"name\" : \"namdev\" , \"no\" : 34324345 }"
   ]
  },
  {
   "cell_type": "code",
   "execution_count": null,
   "id": "06836918",
   "metadata": {},
   "outputs": [],
   "source": [
    "type(d2)"
   ]
  },
  {
   "cell_type": "code",
   "execution_count": null,
   "id": "c5c796b8",
   "metadata": {},
   "outputs": [],
   "source": [
    "d2['name']"
   ]
  },
  {
   "cell_type": "code",
   "execution_count": null,
   "id": "5a5e8f3f",
   "metadata": {},
   "outputs": [],
   "source": [
    "d2['no']"
   ]
  },
  {
   "cell_type": "code",
   "execution_count": null,
   "id": "cacf47c4",
   "metadata": {},
   "outputs": [],
   "source": [
    "d3 = {'name': \"namdev\" , 'tech' :[\"python\" , \"ML\" , \"DL\" , \"NLP\",\"CV\" , \"Big data\" , \"data analytics\"]}"
   ]
  },
  {
   "cell_type": "code",
   "execution_count": null,
   "id": "4f178d36",
   "metadata": {},
   "outputs": [],
   "source": [
    "d3"
   ]
  },
  {
   "cell_type": "code",
   "execution_count": null,
   "id": "568e6fb3",
   "metadata": {},
   "outputs": [],
   "source": [
    "\"python\" in d3['tech']"
   ]
  },
  {
   "cell_type": "code",
   "execution_count": 1,
   "id": "58048098",
   "metadata": {},
   "outputs": [],
   "source": [
    "d4 = {\"name\" :\"iNeuron\" , \"contact_info\" : 345345 , \"name\":\"namdev\"}"
   ]
  },
  {
   "cell_type": "code",
   "execution_count": 3,
   "id": "4798b515",
   "metadata": {},
   "outputs": [
    {
     "data": {
      "text/plain": [
       "{'name': 'namdev', 'contact_info': 345345}"
      ]
     },
     "execution_count": 3,
     "metadata": {},
     "output_type": "execute_result"
    }
   ],
   "source": [
    "d4"
   ]
  },
  {
   "cell_type": "code",
   "execution_count": 5,
   "id": "8de717f3",
   "metadata": {},
   "outputs": [],
   "source": [
    "d4[\"name1\"] = \"xyz\""
   ]
  },
  {
   "cell_type": "code",
   "execution_count": 7,
   "id": "18345078",
   "metadata": {},
   "outputs": [
    {
     "data": {
      "text/plain": [
       "{'name': 'namdev', 'contact_info': 345345, 'name1': 'xyz'}"
      ]
     },
     "execution_count": 7,
     "metadata": {},
     "output_type": "execute_result"
    }
   ],
   "source": [
    "d4"
   ]
  },
  {
   "cell_type": "code",
   "execution_count": null,
   "id": "78e6782e",
   "metadata": {},
   "outputs": [],
   "source": [
    "d2"
   ]
  },
  {
   "cell_type": "code",
   "execution_count": null,
   "id": "9d72711b",
   "metadata": {},
   "outputs": [],
   "source": [
    "d4"
   ]
  },
  {
   "cell_type": "code",
   "execution_count": null,
   "id": "d533f35f",
   "metadata": {},
   "outputs": [],
   "source": [
    "d4['k2']['no']"
   ]
  },
  {
   "cell_type": "code",
   "execution_count": null,
   "id": "6d5c805b",
   "metadata": {},
   "outputs": [],
   "source": [
    "d5 = {_: \"sdfsd\"}"
   ]
  },
  {
   "cell_type": "code",
   "execution_count": null,
   "id": "142487c7",
   "metadata": {},
   "outputs": [],
   "source": [
    "d5[_]"
   ]
  },
  {
   "cell_type": "code",
   "execution_count": null,
   "id": "31fb366d",
   "metadata": {},
   "outputs": [],
   "source": [
    "d6 = {(1,2,34) : \"fsdfs\"}"
   ]
  },
  {
   "cell_type": "code",
   "execution_count": null,
   "id": "f271ffa3",
   "metadata": {},
   "outputs": [],
   "source": [
    "d6[(1,2,34)]"
   ]
  },
  {
   "cell_type": "code",
   "execution_count": null,
   "id": "12d88c93",
   "metadata": {},
   "outputs": [],
   "source": [
    "d7 = {[1,2,3,4] : \"fasdfasfas\"}"
   ]
  },
  {
   "cell_type": "code",
   "execution_count": null,
   "id": "104ede11",
   "metadata": {},
   "outputs": [],
   "source": [
    "d8 = {{3:4} : \"fsdfs\"}"
   ]
  },
  {
   "cell_type": "code",
   "execution_count": null,
   "id": "8c830654",
   "metadata": {},
   "outputs": [],
   "source": [
    "d2"
   ]
  },
  {
   "cell_type": "code",
   "execution_count": null,
   "id": "8e4d10b2",
   "metadata": {},
   "outputs": [],
   "source": [
    "d2"
   ]
  },
  {
   "cell_type": "code",
   "execution_count": null,
   "id": "ffe45689",
   "metadata": {},
   "outputs": [],
   "source": [
    "d3"
   ]
  },
  {
   "cell_type": "code",
   "execution_count": null,
   "id": "91d8669f",
   "metadata": {},
   "outputs": [],
   "source": [
    "d2 +d3"
   ]
  },
  {
   "cell_type": "code",
   "execution_count": null,
   "id": "578323f7",
   "metadata": {},
   "outputs": [],
   "source": [
    "d2"
   ]
  },
  {
   "cell_type": "code",
   "execution_count": null,
   "id": "106267a3",
   "metadata": {},
   "outputs": [],
   "source": [
    "d2.keys()"
   ]
  },
  {
   "cell_type": "code",
   "execution_count": null,
   "id": "27a9df33",
   "metadata": {},
   "outputs": [],
   "source": [
    "d2.values()"
   ]
  },
  {
   "cell_type": "code",
   "execution_count": null,
   "id": "7e55f5cc",
   "metadata": {},
   "outputs": [],
   "source": [
    "d2.items()"
   ]
  },
  {
   "cell_type": "code",
   "execution_count": null,
   "id": "5e99acaf",
   "metadata": {},
   "outputs": [],
   "source": [
    "s = {3,4,5,6,7,8}"
   ]
  },
  {
   "cell_type": "code",
   "execution_count": null,
   "id": "e4a109b4",
   "metadata": {},
   "outputs": [],
   "source": [
    "type(s)"
   ]
  },
  {
   "cell_type": "code",
   "execution_count": null,
   "id": "f458842a",
   "metadata": {},
   "outputs": [],
   "source": [
    "s1 = {3,4,4,5,6,6,7,7,8,8,9,9,0,0,0}"
   ]
  },
  {
   "cell_type": "code",
   "execution_count": null,
   "id": "bade3af3",
   "metadata": {},
   "outputs": [],
   "source": [
    "s1"
   ]
  },
  {
   "cell_type": "code",
   "execution_count": null,
   "id": "6b5d0bcb",
   "metadata": {},
   "outputs": [],
   "source": [
    "s2 = { 3245,4545,6456,5645,675,6234,345}"
   ]
  },
  {
   "cell_type": "code",
   "execution_count": null,
   "id": "1e28b01a",
   "metadata": {},
   "outputs": [],
   "source": [
    "s2"
   ]
  },
  {
   "cell_type": "code",
   "execution_count": 33,
   "id": "29073bac",
   "metadata": {},
   "outputs": [],
   "source": [
    "s3 = {\"patange\" , 324,34,12,645,12,5,'b' , '6'}"
   ]
  },
  {
   "cell_type": "code",
   "execution_count": null,
   "id": "82b7b14f",
   "metadata": {},
   "outputs": [],
   "source": [
    "s3"
   ]
  },
  {
   "cell_type": "code",
   "execution_count": null,
   "id": "cb028d0d",
   "metadata": {},
   "outputs": [],
   "source": [
    "s3[0]"
   ]
  },
  {
   "cell_type": "code",
   "execution_count": null,
   "id": "77f5a2db",
   "metadata": {},
   "outputs": [],
   "source": [
    "list(s3)"
   ]
  },
  {
   "cell_type": "code",
   "execution_count": null,
   "id": "763168c1",
   "metadata": {},
   "outputs": [],
   "source": [
    "tuple(s3)"
   ]
  },
  {
   "cell_type": "code",
   "execution_count": null,
   "id": "397aad48",
   "metadata": {},
   "outputs": [],
   "source": [
    " l = [2,3,4,5656,7,6,7,7,7,77,7,7,7,7,7,7,7,7,7,7,7,7,7,7,7,7]"
   ]
  },
  {
   "cell_type": "code",
   "execution_count": null,
   "id": "765debb1",
   "metadata": {},
   "outputs": [],
   "source": [
    "l = list(set(l))"
   ]
  },
  {
   "cell_type": "code",
   "execution_count": null,
   "id": "e7fe1064",
   "metadata": {},
   "outputs": [],
   "source": [
    "l"
   ]
  },
  {
   "cell_type": "code",
   "execution_count": null,
   "id": "d9ed309c",
   "metadata": {},
   "outputs": [],
   "source": [
    "s2"
   ]
  },
  {
   "cell_type": "code",
   "execution_count": null,
   "id": "08082aff",
   "metadata": {},
   "outputs": [],
   "source": [
    "s2.add(34)"
   ]
  },
  {
   "cell_type": "code",
   "execution_count": null,
   "id": "01783c98",
   "metadata": {},
   "outputs": [],
   "source": [
    "s2"
   ]
  },
  {
   "cell_type": "code",
   "execution_count": null,
   "id": "67f99607",
   "metadata": {},
   "outputs": [],
   "source": [
    "s2.add([1,2,3,4,5])"
   ]
  },
  {
   "cell_type": "code",
   "execution_count": null,
   "id": "5cb18521",
   "metadata": {},
   "outputs": [],
   "source": [
    "s = {(1,2,3,4,5) , 3,4,45,65,6}"
   ]
  },
  {
   "cell_type": "code",
   "execution_count": null,
   "id": "6f89af80",
   "metadata": {},
   "outputs": [],
   "source": [
    "s"
   ]
  },
  {
   "cell_type": "code",
   "execution_count": null,
   "id": "6605f9c0",
   "metadata": {},
   "outputs": [],
   "source": [
    "s1 = {[1,2,3,4] , 345 ,345}"
   ]
  },
  {
   "cell_type": "code",
   "execution_count": null,
   "id": "a7486de5",
   "metadata": {},
   "outputs": [],
   "source": [
    "s"
   ]
  },
  {
   "cell_type": "code",
   "execution_count": null,
   "id": "6b80fb6c",
   "metadata": {},
   "outputs": [],
   "source": [
    "s.remove(35345)"
   ]
  },
  {
   "cell_type": "code",
   "execution_count": null,
   "id": "1cfdf0d1",
   "metadata": {},
   "outputs": [],
   "source": [
    "s"
   ]
  },
  {
   "cell_type": "code",
   "execution_count": null,
   "id": "5f422bcf",
   "metadata": {},
   "outputs": [],
   "source": [
    "s.discard(3452646)"
   ]
  },
  {
   "cell_type": "code",
   "execution_count": null,
   "id": "58d36049",
   "metadata": {},
   "outputs": [],
   "source": [
    "s.pop()"
   ]
  },
  {
   "cell_type": "code",
   "execution_count": null,
   "id": "97be1482",
   "metadata": {},
   "outputs": [],
   "source": [
    "s"
   ]
  },
  {
   "cell_type": "code",
   "execution_count": null,
   "id": "b313243a",
   "metadata": {},
   "outputs": [],
   "source": [
    "type(s)"
   ]
  },
  {
   "cell_type": "code",
   "execution_count": null,
   "id": "58558c61",
   "metadata": {},
   "outputs": [],
   "source": [
    "l = list(s)"
   ]
  },
  {
   "cell_type": "code",
   "execution_count": null,
   "id": "4ebbf5eb",
   "metadata": {},
   "outputs": [],
   "source": [
    "l"
   ]
  },
  {
   "cell_type": "code",
   "execution_count": null,
   "id": "7d81401f",
   "metadata": {},
   "outputs": [],
   "source": [
    "set(l)"
   ]
  },
  {
   "cell_type": "code",
   "execution_count": null,
   "id": "93463c95",
   "metadata": {},
   "outputs": [],
   "source": []
  },
  {
   "cell_type": "code",
   "execution_count": null,
   "id": "97f2fe7e",
   "metadata": {},
   "outputs": [],
   "source": [
    "str\n",
    "list \n",
    "tuple\n",
    "dict\n",
    "set"
   ]
  },
  {
   "cell_type": "code",
   "execution_count": null,
   "id": "a4c3b614",
   "metadata": {},
   "outputs": [],
   "source": [
    "d2"
   ]
  },
  {
   "cell_type": "code",
   "execution_count": null,
   "id": "64e6705d",
   "metadata": {},
   "outputs": [],
   "source": [
    "d2[\"key4\"] = \"sdfsf\""
   ]
  },
  {
   "cell_type": "code",
   "execution_count": null,
   "id": "68cd3b00",
   "metadata": {},
   "outputs": [],
   "source": [
    "d2"
   ]
  },
  {
   "cell_type": "code",
   "execution_count": null,
   "id": "560d9678",
   "metadata": {},
   "outputs": [],
   "source": [
    "d2[\"key1\"]  = \"ineuron\""
   ]
  },
  {
   "cell_type": "code",
   "execution_count": null,
   "id": "9fbd13e1",
   "metadata": {},
   "outputs": [],
   "source": [
    "d2"
   ]
  },
  {
   "cell_type": "code",
   "execution_count": null,
   "id": "2f69f179",
   "metadata": {},
   "outputs": [],
   "source": [
    "l3.sort(reverse=True) \n"
   ]
  },
  {
   "cell_type": "code",
   "execution_count": null,
   "id": "d6a0cee8",
   "metadata": {},
   "outputs": [],
   "source": [
    "l3"
   ]
  },
  {
   "cell_type": "code",
   "execution_count": 11,
   "id": "9200213c",
   "metadata": {},
   "outputs": [],
   "source": [
    "s = \"suraj\"\n",
    "s1 = \"su\""
   ]
  },
  {
   "cell_type": "code",
   "execution_count": 13,
   "id": "49a6fc4b",
   "metadata": {},
   "outputs": [
    {
     "data": {
      "text/plain": [
       "'surajsu'"
      ]
     },
     "execution_count": 13,
     "metadata": {},
     "output_type": "execute_result"
    }
   ],
   "source": [
    "s+s1"
   ]
  },
  {
   "cell_type": "code",
   "execution_count": null,
   "id": "16a048a3",
   "metadata": {},
   "outputs": [],
   "source": [
    "d2.fromkeys(\"k1\")"
   ]
  },
  {
   "cell_type": "code",
   "execution_count": null,
   "id": "6ad8c275",
   "metadata": {},
   "outputs": [],
   "source": [
    "side1 = float(input(\"Enter first side of triangle\"))\n",
    "side2 = float(input(\"Enter second side of triangle\"))\n",
    "side3 = float(input(\"Enter third side of triangle\"))\n",
    "s = (side1+side2+side3)/2\n",
    "ar = (s*(s-side1)*(s-side2)*(s-side3)) ** 0.5\n",
    "print(\"Area of the triangle is, \", ar)"
   ]
  },
  {
   "cell_type": "code",
   "execution_count": null,
   "id": "332f7e8d",
   "metadata": {},
   "outputs": [],
   "source": [
    "l = [1,2,3,4,5]"
   ]
  },
  {
   "cell_type": "code",
   "execution_count": null,
   "id": "d5c73400",
   "metadata": {},
   "outputs": [],
   "source": [
    "l"
   ]
  },
  {
   "cell_type": "code",
   "execution_count": null,
   "id": "507c5394",
   "metadata": {},
   "outputs": [],
   "source": [
    "for i in l:\n",
    "    if type(i)==list:\n",
    "        print(i)\n",
    "    else:\n",
    "        if type(i)==dict:\n",
    "            if type(i.values()==list):\n",
    "                for j in i.values():\n",
    "                    if type(j)==list:\n",
    "                        print(list(j))"
   ]
  },
  {
   "cell_type": "code",
   "execution_count": null,
   "id": "a92567e4",
   "metadata": {},
   "outputs": [],
   "source": [
    "d6 = {_ : \"fdsdf\"}"
   ]
  },
  {
   "cell_type": "code",
   "execution_count": null,
   "id": "dd0fe47b",
   "metadata": {},
   "outputs": [],
   "source": [
    "d6"
   ]
  },
  {
   "cell_type": "code",
   "execution_count": null,
   "id": "5f315ca0",
   "metadata": {},
   "outputs": [],
   "source": [
    "t = ( 4,5,6)"
   ]
  },
  {
   "cell_type": "code",
   "execution_count": null,
   "id": "209d4327",
   "metadata": {},
   "outputs": [],
   "source": [
    "t1 =( 6 )"
   ]
  },
  {
   "cell_type": "code",
   "execution_count": null,
   "id": "8269c970",
   "metadata": {},
   "outputs": [],
   "source": [
    "type(t1)"
   ]
  },
  {
   "cell_type": "code",
   "execution_count": 166,
   "id": "5e8fca84",
   "metadata": {},
   "outputs": [
    {
     "name": "stdout",
     "output_type": "stream",
     "text": [
      "namdev\n",
      "{'name': 'namdev', 'title': 'Data Analyst', 'course': 'FSDS', 'key1': {...}}\n"
     ]
    }
   ],
   "source": [
    "#Question\n",
    "D_NEW = {'name':'namdev','title':'Data Analyst','course':'FSDS'}\n",
    "D_NEW['key1'] = D_NEW\n",
    "print(D_NEW['name'])\n",
    "print(D_NEW['key1'])"
   ]
  },
  {
   "cell_type": "code",
   "execution_count": 168,
   "id": "3d3e8a32",
   "metadata": {},
   "outputs": [
    {
     "name": "stdout",
     "output_type": "stream",
     "text": [
      "namdev\n",
      "{'name': 'namdev', 'title': 'Data Analyst', 'course': 'FSDS', 'key1': {...}}\n"
     ]
    }
   ],
   "source": [
    "print(D_NEW['name'])\n",
    "print(D_NEW['key1'])"
   ]
  },
  {
   "cell_type": "code",
   "execution_count": 170,
   "id": "c9908776",
   "metadata": {},
   "outputs": [
    {
     "data": {
      "text/plain": [
       "{'name': 'namdev', 'title': 'Data Analyst', 'course': 'FSDS', 'key1': {...}}"
      ]
     },
     "execution_count": 170,
     "metadata": {},
     "output_type": "execute_result"
    }
   ],
   "source": [
    "D_NEW"
   ]
  },
  {
   "cell_type": "code",
   "execution_count": 176,
   "id": "efe61ca0",
   "metadata": {},
   "outputs": [],
   "source": [
    "s = {3,4,5,6,7,7}"
   ]
  },
  {
   "cell_type": "code",
   "execution_count": 178,
   "id": "80bedec8",
   "metadata": {},
   "outputs": [
    {
     "data": {
      "text/plain": [
       "{3, 4, 5, 6, 7}"
      ]
     },
     "execution_count": 178,
     "metadata": {},
     "output_type": "execute_result"
    }
   ],
   "source": [
    "s"
   ]
  },
  {
   "cell_type": "code",
   "execution_count": 180,
   "id": "a1e96e0d",
   "metadata": {},
   "outputs": [
    {
     "data": {
      "text/plain": [
       "3"
      ]
     },
     "execution_count": 180,
     "metadata": {},
     "output_type": "execute_result"
    }
   ],
   "source": [
    "list(s)[0]"
   ]
  },
  {
   "cell_type": "code",
   "execution_count": 182,
   "id": "43d5ede3",
   "metadata": {},
   "outputs": [
    {
     "data": {
      "text/plain": [
       "34.57"
      ]
     },
     "execution_count": 182,
     "metadata": {},
     "output_type": "execute_result"
    }
   ],
   "source": [
    "round(34.5656567 , 2)"
   ]
  },
  {
   "cell_type": "code",
   "execution_count": 186,
   "id": "a64cb675",
   "metadata": {},
   "outputs": [],
   "source": [
    "d2 = { \"k1\" :\"fsdfs\" , \"k2 \" : [4,5,56]}"
   ]
  },
  {
   "cell_type": "code",
   "execution_count": 188,
   "id": "98a20a59",
   "metadata": {},
   "outputs": [],
   "source": [
    "l = d2.keys()"
   ]
  },
  {
   "cell_type": "code",
   "execution_count": 190,
   "id": "185a92a9",
   "metadata": {},
   "outputs": [
    {
     "data": {
      "text/plain": [
       "'k1'"
      ]
     },
     "execution_count": 190,
     "metadata": {},
     "output_type": "execute_result"
    }
   ],
   "source": [
    "list(l)[0]"
   ]
  },
  {
   "cell_type": "code",
   "execution_count": 192,
   "id": "7d41c824",
   "metadata": {},
   "outputs": [],
   "source": [
    "n=[4, 5, 7, 9, 2, 3, 4, 5, 2, 1, 9, 6, 7, 0]\n",
    "n.pop()\n",
    "n.sort()"
   ]
  },
  {
   "cell_type": "code",
   "execution_count": 194,
   "id": "93683d30",
   "metadata": {},
   "outputs": [],
   "source": [
    "s = { 1,2,None, 3,4}"
   ]
  },
  {
   "cell_type": "code",
   "execution_count": 196,
   "id": "a2142043",
   "metadata": {},
   "outputs": [
    {
     "data": {
      "text/plain": [
       "[1, 4, 5, 6, 7, [11, 22, 33, 44, 55, 66], 111, 222, 333, 'namdev']"
      ]
     },
     "execution_count": 196,
     "metadata": {},
     "output_type": "execute_result"
    }
   ],
   "source": [
    "l = [3,4,5,6,7, [23,456,67,8,78,78], [345,56,87,8,98,9],(234,6657,6),{'key1':'namdev', 234:[]}]\n",
    "1\n",
    "l = [1,2,3,4,5,6,7,[11,22,33,44,55,66],111,222,333,'namdev']\n",
    "l\n",
    "1\n",
    "l\n",
    "[1, 2, 3, 4, 5, 6, 7, [11, 22, 33, 44, 55, 66], 111, 222, 333, 'namdev']\n",
    "3\n",
    "1\n",
    "l.remove(3)\n",
    "l\n",
    "1\n",
    "l\n",
    "[1, 2, 4, 5, 6, 7, [11, 22, 33, 44, 55, 66], 111, 222, 333, 'namdev']\n",
    "2\n",
    "1\n",
    "l.remove(2)\n",
    "l\n",
    "1\n",
    "l\n",
    "[1, 4, 5, 6, 7, [11, 22, 33, 44, 55, 66], 111, 222, 333, 'namdev']\n"
   ]
  },
  {
   "cell_type": "code",
   "execution_count": 25,
   "id": "148512dd",
   "metadata": {},
   "outputs": [],
   "source": [
    "l = [10,2,3,4,5,6,7,[11,22,33,44,55,66],111,222,333,'namdev']"
   ]
  },
  {
   "cell_type": "code",
   "execution_count": 27,
   "id": "9f725819",
   "metadata": {},
   "outputs": [],
   "source": [
    "l.remove(10)"
   ]
  },
  {
   "cell_type": "code",
   "execution_count": 29,
   "id": "95328172",
   "metadata": {},
   "outputs": [
    {
     "data": {
      "text/plain": [
       "[2, 3, 4, 5, 6, 7, [11, 22, 33, 44, 55, 66], 111, 222, 333, 'namdev']"
      ]
     },
     "execution_count": 29,
     "metadata": {},
     "output_type": "execute_result"
    }
   ],
   "source": [
    "l"
   ]
  }
 ],
 "metadata": {
  "kernelspec": {
   "display_name": "Python 3 (ipykernel)",
   "language": "python",
   "name": "python3"
  },
  "language_info": {
   "codemirror_mode": {
    "name": "ipython",
    "version": 3
   },
   "file_extension": ".py",
   "mimetype": "text/x-python",
   "name": "python",
   "nbconvert_exporter": "python",
   "pygments_lexer": "ipython3",
   "version": "3.11.5"
  }
 },
 "nbformat": 4,
 "nbformat_minor": 5
}
